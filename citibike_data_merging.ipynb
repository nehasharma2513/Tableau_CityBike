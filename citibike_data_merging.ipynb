{
 "cells": [
  {
   "cell_type": "code",
   "execution_count": 20,
   "id": "a263d17c",
   "metadata": {},
   "outputs": [],
   "source": [
    "# Import the modules\n",
    "import pandas as pd\n",
    "from pathlib import Path\n",
    "import warnings\n",
    "warnings.filterwarnings('ignore')"
   ]
  },
  {
   "cell_type": "code",
   "execution_count": 21,
   "id": "2e7d3e77",
   "metadata": {},
   "outputs": [],
   "source": [
    "citibike_master_df=pd.DataFrame()\n",
    "path=\"202306-citibike-tripdata.csv\"\n",
    "citibike_june_df = pd.read_csv(Path(path))\n",
    "citibike_master_df = pd.concat([citibike_june_df, citibike_master_df], axis=0)\n",
    "#     path2=\"JC-20230\"+str(i)+\"-citibike-tripdata.csv\"\n",
    "#     citibike_JC_df = pd.read_csv(Path(path2))\n",
    "#     citibike_JC_master_Q1_df= pd.concat([citibike_JC_df, citibike_JC_master_Q1_df], axis=0)"
   ]
  },
  {
   "cell_type": "code",
   "execution_count": 22,
   "id": "9aa44196",
   "metadata": {},
   "outputs": [],
   "source": [
    "path=\"202312-citibike-tripdata.csv\"\n",
    "citibike_dec_df = pd.read_csv(Path(path))\n",
    "citibike_master_df = pd.concat([citibike_dec_df, citibike_master_df], axis=0)"
   ]
  },
  {
   "cell_type": "code",
   "execution_count": 23,
   "id": "9516a9ec",
   "metadata": {},
   "outputs": [
    {
     "data": {
      "text/plain": [
       "<bound method NDFrame.head of                   ride_id  rideable_type           started_at  \\\n",
       "0        FB18F431791D6F97   classic_bike  2023-12-07 12:40:22   \n",
       "1        73DF56B794079C50   classic_bike  2023-12-29 13:47:27   \n",
       "2        E3BA5AF851CC1CF0   classic_bike  2023-12-14 19:57:46   \n",
       "3        8F2CBCCB503B0398  electric_bike  2023-12-20 16:55:15   \n",
       "4        A28FFC9585DE8CC5   classic_bike  2023-12-30 14:43:15   \n",
       "...                   ...            ...                  ...   \n",
       "3560254  E6B04D2FD398493E   classic_bike  2023-06-22 18:06:15   \n",
       "3560255  A9C0665FC912A63B   classic_bike  2023-06-12 09:16:47   \n",
       "3560256  C6B241D76A0137FD   classic_bike  2023-06-11 17:23:58   \n",
       "3560257  B218070FEA49C6B3   classic_bike  2023-06-27 18:16:21   \n",
       "3560258  69FB0F587F4022B6   classic_bike  2023-06-02 14:25:05   \n",
       "\n",
       "                    ended_at           start_station_name start_station_id  \\\n",
       "0        2023-12-07 12:47:09        Allen St & Stanton St          5484.09   \n",
       "1        2023-12-29 13:54:02        Carlton Ave & Dean St          4199.12   \n",
       "2        2023-12-14 20:15:12      W 84 St & Amsterdam Ave          7409.04   \n",
       "3        2023-12-20 17:04:03           E 85 St & York Ave          7146.04   \n",
       "4        2023-12-30 14:56:33      W 84 St & Amsterdam Ave          7409.04   \n",
       "...                      ...                          ...              ...   \n",
       "3560254  2023-06-22 18:19:31       University Pl & E 8 St          5755.14   \n",
       "3560255  2023-06-12 09:42:18          N 7 St & Driggs Ave          5340.01   \n",
       "3560256  2023-06-11 18:02:36            12 Ave & W 125 St          7886.02   \n",
       "3560257  2023-06-27 18:33:12             W 34 St & 11 Ave          6578.01   \n",
       "3560258  2023-06-02 14:32:29  Sullivan St & Washington Sq          5721.01   \n",
       "\n",
       "                     end_station_name end_station_id  start_lat  start_lng  \\\n",
       "0                  Carmine St & 6 Ave        5763.03  40.721818 -73.989172   \n",
       "1                    Union St & 4 Ave        4175.15  40.680974 -73.971010   \n",
       "2        W 48 St &  Rockefeller Plaza        6626.11  40.786249 -73.975446   \n",
       "3         Central Park West & W 85 St        7354.01  40.775369 -73.948034   \n",
       "4                     E 58 St & 3 Ave        6762.02  40.786238 -73.975478   \n",
       "...                               ...            ...        ...        ...   \n",
       "3560254  Bialystoker Pl & Delancey St        5335.03  40.731437 -73.994903   \n",
       "3560255           31 St & Thomson Ave        6227.02  40.716967 -73.956388   \n",
       "3560256        Central Park S & 6 Ave        6876.04  40.818299 -73.960405   \n",
       "3560257              11 Ave & W 59 St        7059.01  40.755942 -74.002116   \n",
       "3560258               8 Ave & W 16 St        6072.11  40.730477 -73.999061   \n",
       "\n",
       "           end_lat    end_lng member_casual  \n",
       "0        40.730386 -74.002150        member  \n",
       "1        40.677274 -73.982820        member  \n",
       "2        40.757769 -73.979294        member  \n",
       "3        40.784760 -73.969862        member  \n",
       "4        40.760958 -73.967245        member  \n",
       "...            ...        ...           ...  \n",
       "3560254  40.716226 -73.982612        member  \n",
       "3560255  40.744697 -73.935404        member  \n",
       "3560256  40.765909 -73.976342        member  \n",
       "3560257  40.771497 -73.990460        casual  \n",
       "3560258  40.740983 -74.001702        member  \n",
       "\n",
       "[5833924 rows x 13 columns]>"
      ]
     },
     "execution_count": 23,
     "metadata": {},
     "output_type": "execute_result"
    }
   ],
   "source": [
    "citibike_master_df.shape"
   ]
  },
  {
   "cell_type": "code",
   "execution_count": 25,
   "id": "c1820260",
   "metadata": {},
   "outputs": [],
   "source": [
    "citibike_master_df.to_csv('citibike_merged_file.csv')\n"
   ]
  }
 ],
 "metadata": {
  "kernelspec": {
   "display_name": "Python 3 (ipykernel)",
   "language": "python",
   "name": "python3"
  },
  "language_info": {
   "codemirror_mode": {
    "name": "ipython",
    "version": 3
   },
   "file_extension": ".py",
   "mimetype": "text/x-python",
   "name": "python",
   "nbconvert_exporter": "python",
   "pygments_lexer": "ipython3",
   "version": "3.11.4"
  }
 },
 "nbformat": 4,
 "nbformat_minor": 5
}
