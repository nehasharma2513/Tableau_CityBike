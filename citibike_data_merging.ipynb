{
 "cells": [
  {
   "cell_type": "code",
   "execution_count": 1,
   "id": "a263d17c",
   "metadata": {},
   "outputs": [],
   "source": [
    "# Import the modules\n",
    "import pandas as pd\n",
    "from pathlib import Path\n",
    "import warnings\n",
    "warnings.filterwarnings('ignore')"
   ]
  },
  {
   "cell_type": "code",
   "execution_count": 2,
   "id": "2e7d3e77",
   "metadata": {},
   "outputs": [],
   "source": [
    "#Creating empty master DataFrame\n",
    "citibike_master_df=pd.DataFrame()\n",
    "\n",
    "#Reading June data CSV file\n",
    "path=\"202306-citibike-tripdata.csv\"\n",
    "citibike_june_df = pd.read_csv(Path(path))\n",
    "\n",
    "#Adding data to master DataFrame\n",
    "citibike_master_df = pd.concat([citibike_june_df, citibike_master_df], axis=0)\n"
   ]
  },
  {
   "cell_type": "code",
   "execution_count": 3,
   "id": "9aa44196",
   "metadata": {},
   "outputs": [],
   "source": [
    "#Reading December data CSV file\n",
    "path=\"202312-citibike-tripdata.csv\"\n",
    "citibike_dec_df = pd.read_csv(Path(path))\n",
    "\n",
    "#Adding data to master DataFrame\n",
    "citibike_master_df = pd.concat([citibike_dec_df, citibike_master_df], axis=0)"
   ]
  },
  {
   "cell_type": "code",
   "execution_count": 4,
   "id": "9516a9ec",
   "metadata": {},
   "outputs": [
    {
     "data": {
      "text/plain": [
       "(5833924, 13)"
      ]
     },
     "execution_count": 4,
     "metadata": {},
     "output_type": "execute_result"
    }
   ],
   "source": [
    "#Checking shape of the master DataFrame\n",
    "citibike_master_df.shape"
   ]
  },
  {
   "cell_type": "code",
   "execution_count": 5,
   "id": "c1820260",
   "metadata": {},
   "outputs": [],
   "source": [
    "#Writing master data to CSV file\n",
    "citibike_master_df.to_csv('citibike_merged_file.csv')\n"
   ]
  },
  {
   "cell_type": "code",
   "execution_count": null,
   "id": "19d46057",
   "metadata": {},
   "outputs": [],
   "source": []
  }
 ],
 "metadata": {
  "kernelspec": {
   "display_name": "Python 3 (ipykernel)",
   "language": "python",
   "name": "python3"
  },
  "language_info": {
   "codemirror_mode": {
    "name": "ipython",
    "version": 3
   },
   "file_extension": ".py",
   "mimetype": "text/x-python",
   "name": "python",
   "nbconvert_exporter": "python",
   "pygments_lexer": "ipython3",
   "version": "3.11.4"
  }
 },
 "nbformat": 4,
 "nbformat_minor": 5
}
